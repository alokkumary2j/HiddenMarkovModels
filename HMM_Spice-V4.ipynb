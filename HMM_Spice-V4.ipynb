{
 "cells": [
  {
   "cell_type": "code",
   "execution_count": 1,
   "metadata": {
    "collapsed": true
   },
   "outputs": [],
   "source": [
    "import numpy as np\n",
    "import math\n",
    "import sys\n",
    "from collections import defaultdict\n",
    "from math import expm1\n",
    "import time\n",
    "try:\n",
    "    # Python 2.7\n",
    "    import urllib2 as ur\n",
    "    orl2 = True\n",
    "except:\n",
    "    #Python 3.4\n",
    "    import urllib.request as ur\n",
    "    orl2 = False\n",
    "from collections import Counter"
   ]
  },
  {
   "cell_type": "code",
   "execution_count": 2,
   "metadata": {
    "collapsed": true
   },
   "outputs": [],
   "source": [
    "def computeInitialProb(trainDataFile,numOfStates):\n",
    "    trainFile=open(trainDataFile,\"r\")\n",
    "    metaDataLine = trainFile.readline()\n",
    "    headerLine = metaDataLine.split(\" \")\n",
    "    numSequences = int(headerLine[0])\n",
    "    distinctObservations= int(headerLine[1])#Total Number of Distinct Observations\n",
    "    numOfStates=min(numOfStates,distinctObservations)\n",
    "    empiricalDistr=Counter()\n",
    "    for n in range(numSequences):\n",
    "        line = trainFile.readline()#Reading Sequences 1 by 1\n",
    "        line=line.rstrip(\"\\n\")\n",
    "        l = line.split(\" \")\n",
    "        l=l[1:]\n",
    "        lDistr=Counter(l)\n",
    "        empiricalDistr+=lDistr\n",
    "    totalSymbolsSeen=sum(empiricalDistr.values())\n",
    "    initialProb=[]\n",
    "    for i in np.arange(numOfStates):\n",
    "        initialProb.append((1.0*empiricalDistr[str(i)])/totalSymbolsSeen)\n",
    "    return (numOfStates,distinctObservations,initialProb)"
   ]
  },
  {
   "cell_type": "code",
   "execution_count": 3,
   "metadata": {
    "collapsed": true
   },
   "outputs": [],
   "source": [
    "def createRandomMatrixA(numOfStates):\n",
    "    matrixA=np.ndarray(shape=(numOfStates,numOfStates),dtype=float)\n",
    "    prob=1.0/(numOfStates*numOfStates)\n",
    "    matrixA.fill(prob)\n",
    "    return matrixA\n",
    "def createRandomMatrixB(numOfStates,distinctObservations):\n",
    "    matrixB=np.ndarray(shape=(numOfStates,distinctObservations),dtype=float)\n",
    "    prob=1.0/(numOfStates*distinctObservations)\n",
    "    matrixB.fill(prob)\n",
    "    return matrixB"
   ]
  },
  {
   "cell_type": "code",
   "execution_count": 4,
   "metadata": {
    "collapsed": false
   },
   "outputs": [],
   "source": [
    "def computeAlpha(observations,a,aTranspose,b,bTranspose,pi,alphaDP):\n",
    "    statesC=a.shape[0]\n",
    "    timePts=observations.shape[0]\n",
    "    if timePts<1:\n",
    "        return\n",
    "    alphaDpScaleTime0=0\n",
    "    alphaDP[0]=pi*bTranspose[observations[0]]\n",
    "    alphaDpScaleTime0=np.sum(alphaDP[0])\n",
    "    alphaDP[0]/=alphaDpScaleTime0\n",
    "    for t in np.arange(1,timePts):\n",
    "        alphaDpScaleTimeT=0\n",
    "        for i in np.arange(statesC):\n",
    "            alphaDP[t][i]=(np.sum(alphaDP[t-1]*aTranspose[i]))*b[i][observations[t]]\n",
    "        alphaDpScaleTimeT=np.sum(alphaDP[t])\n",
    "        alphaDP[t]/=alphaDpScaleTimeT\n",
    "def computeAlphaUnScaled(observations,a,aTranspose,b,bTranspose,pi,alphaDP):\n",
    "    statesC=a.shape[0]\n",
    "    timePts=observations.shape[0]\n",
    "    if timePts<1:\n",
    "        return\n",
    "    alphaDpScaleTime0=0\n",
    "    alphaDP[0]=pi*bTranspose[observations[0]]\n",
    "    for t in np.arange(1,timePts):\n",
    "        alphaDpScaleTimeT=0\n",
    "        for i in np.arange(statesC):\n",
    "            alphaDP[t][i]=(np.sum(alphaDP[t-1]*aTranspose[i]))*b[i][observations[t]]\n",
    "def observationsLikelihood(alphaDP):\n",
    "    timePts=alphaDP.shape[0]\n",
    "    ans=0.0\n",
    "    ans=np.sum(alphaDP[timePts-1])\n",
    "    return ans"
   ]
  },
  {
   "cell_type": "code",
   "execution_count": 5,
   "metadata": {
    "collapsed": false
   },
   "outputs": [],
   "source": [
    "def computeBeta(observations,a,b,bTranspose,pi,betaDP):\n",
    "    statesC=a.shape[0]\n",
    "    timePts=observations.shape[0]\n",
    "    if timePts<1:\n",
    "        return\n",
    "    betaDP[timePts-1].fill(1)\n",
    "    for t in np.arange(timePts-2,-1,-1):\n",
    "        betaDpScaleTimeT=0\n",
    "        for i in np.arange(statesC):\n",
    "            betaDP[t][i]=np.sum(a[i]*bTranspose[observations[t+1]]*betaDP[t+1])\n",
    "        betaDpScaleTimeT=np.sum(betaDP[t])\n",
    "        betaDP[t]/=betaDpScaleTimeT\n",
    "    return betaDP"
   ]
  },
  {
   "cell_type": "code",
   "execution_count": 6,
   "metadata": {
    "collapsed": false
   },
   "outputs": [],
   "source": [
    "def computeDiGammaDP(alphaDP,betaDP,a,b,bTranspose,observations):\n",
    "    observationsC=alphaDP.shape[0]\n",
    "    statesC=alphaDP.shape[1]\n",
    "    diGammaDP=np.zeros(shape=(statesC,statesC),dtype=float)\n",
    "    diGammaDenom=observationsLikelihood(alphaDP)\n",
    "    for i in np.arange(statesC):\n",
    "        for t in np.arange(observationsC-1):\n",
    "            diGammaDP[i]+=alphaDP[t][i]*a[i]*bTranspose[observations[t+1]]*betaDP[t+1]\n",
    "    diGammaDP/=diGammaDenom\n",
    "    return diGammaDP\n",
    "def computeTransitionProbabilityA(alphaDP,betaDP,a,b,bTranspose,observations):\n",
    "    statesC=alphaDP.shape[1]\n",
    "    newlyComputedTransitionProbA=np.zeros(shape=(statesC,statesC),dtype=float)\n",
    "    diGammaDP=computeDiGammaDP(alphaDP,betaDP,a,b,bTranspose,observations)\n",
    "    diGammaDPSumGrpByJ=np.apply_along_axis(np.sum,1,diGammaDP)\n",
    "    for i in np.arange(statesC):    \n",
    "        if (diGammaDPSumGrpByJ[i]==0):\n",
    "            newlyComputedTransitionProbA[i]=0.0\n",
    "        else:\n",
    "            newlyComputedTransitionProbA[i]=diGammaDP[i]/diGammaDPSumGrpByJ[i]\n",
    "    return newlyComputedTransitionProbA   "
   ]
  },
  {
   "cell_type": "code",
   "execution_count": 7,
   "metadata": {
    "collapsed": false
   },
   "outputs": [],
   "source": [
    "def computeGammaDP(alphaDP,betaDP):\n",
    "    gammaDenom=observationsLikelihood(alphaDP)\n",
    "    gammaDP=alphaDP*betaDP#[Time][State]\n",
    "    gammaDP/=gammaDenom\n",
    "    return gammaDP\n",
    "def computeObsrProbNum(gammaDP,i,vk,observations):\n",
    "    gammaDPi=gammaDP[i]\n",
    "    return np.sum(gammaDPi[np.where(observations==vk)])\n",
    "def computeTransitionProbabilityB(alphaDP,betaDP,a,b,observations,observationDict):\n",
    "    statesC=a.shape[0]\n",
    "    observationsC=b.shape[1]\n",
    "    newlyComputedObsrProbB=np.zeros(shape=(observationsC,statesC),dtype=float)#Ideal Shape should be transposed\n",
    "    gammaDP=computeGammaDP(alphaDP,betaDP)#[t][state]\n",
    "    gammaDP=gammaDP.transpose()\n",
    "    for i in np.arange(statesC):\n",
    "        obsrProbDenom =np.sum(gammaDP[i])\n",
    "        for vk in observationDict:\n",
    "            newlyComputedObsrProbB[i][vk]=computeObsrProbNum(gammaDP,i,vk,observations)/obsrProbDenom\n",
    "    return newlyComputedObsrProbB"
   ]
  },
  {
   "cell_type": "code",
   "execution_count": 8,
   "metadata": {
    "collapsed": false
   },
   "outputs": [],
   "source": [
    "#Change Convergence Criteria to be more reasonable/Useful\n",
    "def isConverged(count,convergenceIters):\n",
    "    if count>=convergenceIters:\n",
    "        return True\n",
    "    return False\n",
    "def Forward_Backward_EM_Algo(observations,A,B,pi,convergenceIters,observationDict):\n",
    "    count=0\n",
    "    updatedA=A\n",
    "    updatedB=B\n",
    "    while isConverged(count,convergenceIters)==False:\n",
    "        #Expectation(E)-Step\n",
    "        alphaDP=np.zeros(shape=(observations.shape[0],updatedA.shape[0]))# Count_of_Observations*Count_of_Hidden_States\n",
    "        betaDP=np.zeros(shape=(observations.shape[0],updatedA.shape[0]))# Count_of_Observations*Count_of_Hidden_States\n",
    "        updatedATranspose=updatedA.transpose()\n",
    "        updatedBTranspose=updatedB.transpose()\n",
    "        computeAlpha(observations,updatedA,updatedATranspose,updatedB,updatedBTranspose,pi,alphaDP)\n",
    "        computeBeta(observations,updatedA,updatedB,updatedBTranspose,pi,betaDP)\n",
    "        #Maximization(M)-Step\n",
    "        newA=computeTransitionProbabilityA(alphaDP,betaDP,updatedA,updatedB,updatedBTranspose,observations)\n",
    "        newB=computeTransitionProbabilityB(alphaDP,betaDP,updatedA,updatedB,observations,observationDict)\n",
    "        updatedA=newA\n",
    "        updatedB=newB\n",
    "        count=count+1\n",
    "    return (updatedA,updatedB)"
   ]
  },
  {
   "cell_type": "code",
   "execution_count": 9,
   "metadata": {
    "collapsed": false
   },
   "outputs": [],
   "source": [
    "def trainHMM(trainDataFile,A,B,pi,convergenceIters,maxSequences=-1):\n",
    "    trainFile=open(trainDataFile,\"r\")\n",
    "    metaDataLine = trainFile.readline()\n",
    "    headerLine = metaDataLine.split(\" \")\n",
    "    numSequences = int(headerLine[0])\n",
    "    distinctObservations= int(headerLine[1])#Total Number of Distinct Observations\n",
    "    observationDict=np.arange(distinctObservations)\n",
    "    updatedA=np.NaN\n",
    "    updatedB=np.NaN\n",
    "    isAUpdated=False\n",
    "    if(maxSequences==-1):\n",
    "        usedSeqs=numSequences\n",
    "    else:\n",
    "        usedSeqs=min(maxSequences,numSequences)\n",
    "    actuallyUsedSeqs=0\n",
    "    for n in range(usedSeqs):\n",
    "        line = trainFile.readline()#Reading Sequences 1 by 1\n",
    "        l = line.split(\" \")\n",
    "        if(int(l[0])<=1):\n",
    "            continue\n",
    "        actuallyUsedSeqs+=1\n",
    "        observations=np.array([int(i) for i in l[1:len(l)]])\n",
    "        learnedParams=Forward_Backward_EM_Algo(observations,A,B,pi,convergenceIters,observationDict)\n",
    "        if isAUpdated==False:\n",
    "            isAUpdated=True\n",
    "            updatedA=learnedParams[0]\n",
    "            updatedB=learnedParams[1]\n",
    "        else:\n",
    "            updatedA+=learnedParams[0]\n",
    "            updatedB+=learnedParams[1]\n",
    "    updatedA=updatedA/actuallyUsedSeqs\n",
    "    updatedB=updatedB/actuallyUsedSeqs\n",
    "    return (updatedA,updatedB)"
   ]
  },
  {
   "cell_type": "code",
   "execution_count": 10,
   "metadata": {
    "collapsed": false,
    "scrolled": true
   },
   "outputs": [],
   "source": [
    "def trainModel(fileLoc,maxNoOfStates,convergenceIters,maxSequences=-1):\n",
    "    start = time.time()\n",
    "    initialProbs=computeInitialProb(fileLoc,maxNoOfStates)\n",
    "    end = time.time()\n",
    "    print(\"Computed Initial Prob. in \", end - start ,\"seconds\")\n",
    "    pi=initialProbs[2]\n",
    "    numOfStates=initialProbs[0]\n",
    "    distinctObservations=initialProbs[1]\n",
    "    A=createRandomMatrixA(numOfStates)\n",
    "    B=createRandomMatrixB(numOfStates,distinctObservations)\n",
    "    trainedParams=trainHMM(fileLoc,A,B,pi,convergenceIters,maxSequences)\n",
    "    trainedParams=trainedParams+(pi,)\n",
    "    end=time.time()\n",
    "    print(\"For \",maxSequences,\" Sequences : Total Training Time \",end-start,\" seconds\")\n",
    "    return trainedParams"
   ]
  },
  {
   "cell_type": "code",
   "execution_count": 11,
   "metadata": {
    "collapsed": false
   },
   "outputs": [
    {
     "name": "stdout",
     "output_type": "stream",
     "text": [
      "Computed Initial Prob. in  1.0514240264892578 seconds\n",
      "For  -1  Sequences : Total Training Time  3355.614023923874  seconds\n"
     ]
    }
   ],
   "source": [
    "(A,B,pi)=trainModel('Data/3.spice.train.txt',10,4)"
   ]
  },
  {
   "cell_type": "code",
   "execution_count": 12,
   "metadata": {
    "collapsed": true
   },
   "outputs": [],
   "source": [
    "def getHmmRank(prefix,A,ATranspose,B,BTranspose,pi,uniqueSymbols,shouldScale=False):\n",
    "    likelihoods=[]\n",
    "    for i in np.arange(uniqueSymbols):\n",
    "        prefix.append(i)\n",
    "        observations=np.array(prefix)\n",
    "        alphaDP=np.zeros(shape=(observations.shape[0],A.shape[0]))# Count_of_Observations*Count_of_Hidden_States\n",
    "        if shouldScale:\n",
    "            computeAlpha(observations,B,ATranspose,B,BTranspose,pi,alphaDP)\n",
    "        else:\n",
    "            computeAlphaUnScaled(observations,B,ATranspose,B,BTranspose,pi,alphaDP)\n",
    "        obsrLikelihood=observationsLikelihood(alphaDP)\n",
    "        prefix.pop()\n",
    "        likelihoods.append((i,obsrLikelihood))\n",
    "    likelihoods=sorted(likelihoods, key=lambda x: -x[1])\n",
    "    ranks=[i[0] for i in likelihoods]\n",
    "    return ranks"
   ]
  },
  {
   "cell_type": "code",
   "execution_count": 17,
   "metadata": {
    "collapsed": true
   },
   "outputs": [],
   "source": [
    "def list_to_string(l):\n",
    "    s=str(l[0])\n",
    "    for x in l[1:]:\n",
    "        s+= \" \" + str(x)\n",
    "    return(s)\n",
    "def formatString(string_in):\n",
    "    \"\"\" Replace white spaces by %20 \"\"\"\n",
    "    return string_in.strip().replace(\" \", \"%20\")\n",
    "# get the test first prefix: the only element of the test set\n",
    "def get_first_prefix(test_file):\n",
    "    \"\"\" This function is called for the public test file(Which only has 1 line)\n",
    "    \"\"\"\n",
    "    f = open(test_file)\n",
    "    prefix = f.readline()\n",
    "    f.close()\n",
    "    return prefix\n",
    "def predictOnSpicePublicData(problem_number,name):\n",
    "    problem_number = str(problem_number)\n",
    "    user_id = '68'\n",
    "    #name = \"hmm_Baseline\"\n",
    "    #train_file = 'Data/0.spice.train.txt'\n",
    "    prefix_file = 'Data/'+problem_number+'.spice.public.test.txt'\n",
    "    first_prefix = get_first_prefix(prefix_file)\n",
    "    prefix_number=1\n",
    "    # get the next symbol ranking on the first prefix\n",
    "    p=first_prefix.split()\n",
    "    prefix=[int(i) for i in p[1:len(p)]]#prefix holds the sequence of values in the public test file(Note:It has only 1 Seq)\n",
    "    print(\"Prefix \",prefix)\n",
    "    ranking=getHmmRank(prefix,A,A.transpose(),B,B.transpose(),pi,A.shape[0])\n",
    "    print(\"Model Ranking \",ranking)\n",
    "    ranking_string=list_to_string(ranking[:5])\n",
    "    #print(\"Prefix number: \" + str(prefix_number) + \" Ranking: \" + ranking_string + \" Prefix: \" + first_prefix)\n",
    "    first_prefix = formatString(first_prefix)\n",
    "\n",
    "    # transform the ranking to follow submission format\n",
    "    ranking_string=formatString(ranking_string)\n",
    "\n",
    "    # create the url to submit the ranking\n",
    "    name=name+\"_Ver1.2\"\n",
    "    url_base = 'http://spice.lif.univ-mrs.fr/submit.php?user=' + user_id +\\\n",
    "        '&problem=' + problem_number + '&submission=' + name + '&'\n",
    "    url = url_base + 'prefix=' + first_prefix + '&prefix_number=1' + '&ranking=' +\\\n",
    "        ranking_string\n",
    "    response = ur.urlopen(url)\n",
    "    print(\"URL \",url)\n",
    "    content = response.read()\n",
    "    print(\"Response from SPiCe \",content)#Content is a new Sequence returned from the SPiCe server: We will need to predict for this seq\n",
    "    if not orl2:\n",
    "        # Needed for python 3.4...\n",
    "        content= content.decode('utf-8')\n",
    "    list_element = content.split()\n",
    "    head = str(list_element[0])\n",
    "    return content,url_base"
   ]
  },
  {
   "cell_type": "code",
   "execution_count": 18,
   "metadata": {
    "collapsed": false
   },
   "outputs": [
    {
     "name": "stdout",
     "output_type": "stream",
     "text": [
      "Prefix  [3, 6, 8, 3, 5, 4, 8, 7, 5, 1, 1, 1, 3, 9, 2, 6, 4, 6, 2, 3]\n",
      "Model Ranking  [6, 2, 4, 8, 5, 9, 1, 3, 7, 0]\n",
      "URL  http://spice.lif.univ-mrs.fr/submit.php?user=68&problem=3&submission=hmm_baseline_Ver1.2&prefix=20%203%206%208%203%205%204%208%207%205%201%201%201%203%209%202%206%204%206%202%203&prefix_number=1&ranking=6%202%204%208%205\n",
      "Response from SPiCe  b'10 4 6 6 7 7 9 4 6 3 4\\n'\n"
     ]
    }
   ],
   "source": [
    "spiceContentOnPubFile,url_base=predictOnSpicePublicData(3,\"hmm_baseline\")"
   ]
  },
  {
   "cell_type": "code",
   "execution_count": 19,
   "metadata": {
    "collapsed": false
   },
   "outputs": [],
   "source": [
    "def evaluateOnSpiceTrainDataSet(prevContent,url_base):\n",
    "    prefix_number = 2\n",
    "    head=''\n",
    "    content=prevContent\n",
    "    while(head != '[Error]' and head != '[Success]'):\n",
    "        prefix = content[:-1]#Fetch the Sequence returned from Spice Server and exclude the last '\\n'\n",
    "        # Get the ranking\n",
    "        p=prefix.split()\n",
    "        prefix_list=[int(i) for i in p[1:len(p)]]\n",
    "        ranking = getHmmRank(prefix_list,A,A.transpose(),B,B.transpose(),pi,A.shape[0])\n",
    "        ranking_string=list_to_string(ranking[:5])#Here At least alphabet should be 4: Else may get Runtime error\n",
    "        if prefix_number % 200 == 0:\n",
    "            print(\"Prefix number: \" + str(prefix_number) + \" Ranking: \" + ranking_string + \" Prefix: \" + prefix)\n",
    "        # Format the ranking\n",
    "        ranking_string = formatString(ranking_string)\n",
    "        # create prefix with submission needed format\n",
    "        prefix=formatString(prefix)\n",
    "        # Create the url with your ranking to get the next prefix\n",
    "        url = url_base + 'prefix=' + prefix + '&prefix_number=' +\\\n",
    "            str(prefix_number) + '&ranking=' + ranking_string\n",
    "        # Get the answer of the submission on current prefix\n",
    "        response = ur.urlopen(url)\n",
    "        content = response.read()\n",
    "        if not orl2:\n",
    "            # Needed for Python 3.4...\n",
    "            content= content.decode('utf-8')\n",
    "        list_element = content.split()\n",
    "        # modify head in case it is finished or an erro occured\n",
    "        head = str(list_element[0])\n",
    "        # change prefix number\n",
    "        prefix_number += 1\n",
    "    # Post-treatment\n",
    "    # The score is the last element of content (in case of a public test set)\n",
    "    print(content)\n",
    "    list_element = content.split()\n",
    "    score = (list_element[-1])\n",
    "    print(score)"
   ]
  },
  {
   "cell_type": "code",
   "execution_count": 20,
   "metadata": {
    "collapsed": false
   },
   "outputs": [
    {
     "name": "stdout",
     "output_type": "stream",
     "text": [
      "Prefix number: 200 Ranking: 6 2 4 8 5 Prefix: 70 2 2 1 4 5 2 6 8 9 8 2 8 9 5 5 3 2 4 5 0 2 2 1 5 6 9 7 3 9 4 6 1 5 4 8 8 9 3 2 4 4 3 4 4 5 9 6 3 6 4 9 9 6 5 9 4 8 2 2 5 8 9 8 6 8 5 2 8 4 4\n",
      "Prefix number: 400 Ranking: 6 2 4 8 5 Prefix: 52 1 1 9 9 4 1 7 9 6 1 9 5 9 3 4 7 5 6 1 4 6 5 6 8 9 9 6 4 5 3 8 2 4 7 1 5 3 7 6 1 2 2 8 8 2 6 8 9 4 2 3 7\n",
      "Prefix number: 600 Ranking: 6 2 4 8 5 Prefix: 0\n",
      "Prefix number: 800 Ranking: 6 2 4 8 5 Prefix: 3 7 2 4\n",
      "Prefix number: 1000 Ranking: 6 2 4 8 5 Prefix: 23 8 2 2 5 6 1 5 6 2 5 6 7 4 7 1 2 3 6 4 4 9 6 6\n",
      "Prefix number: 1200 Ranking: 6 2 4 8 5 Prefix: 27 8 7 5 3 7 5 4 6 2 5 5 2 1 9 9 9 1 6 6 5 2 0 9 9 8 6 6\n",
      "Prefix number: 1400 Ranking: 6 2 4 8 5 Prefix: 7 5 7 5 1 8 2 5\n",
      "Prefix number: 1600 Ranking: 6 2 4 8 5 Prefix: 71 2 6 4 8 5 4 1 7 5 2 3 8 8 8 6 3 7 7 2 3 4 7 5 1 8 1 1 1 4 8 7 2 3 6 8 2 8 4 2 8 3 5 5 6 8 5 8 9 1 9 5 2 4 5 8 8 3 6 7 9 9 3 3 3 5 1 4 6 7 5 6\n",
      "Prefix number: 1800 Ranking: 6 2 4 8 5 Prefix: 23 6 1 3 6 6 9 8 2 6 7 3 9 6 6 7 1 2 9 1 7 3 1 0\n",
      "Prefix number: 2000 Ranking: 6 2 4 8 5 Prefix: 0\n",
      "Prefix number: 2200 Ranking: 6 2 4 8 5 Prefix: 83 2 8 7 6 7 5 5 8 6 9 3 2 6 4 2 2 1 6 7 4 2 1 4 9 1 6 5 1 8 8 1 2 2 9 5 8 8 8 1 6 6 1 7 8 6 0 1 6 0 6 6 9 8 4 8 7 5 9 4 6 8 2 2 2 6 7 2 2 2 7 5 4 2 1 8 7 6 8 1 7 5 6 3\n",
      "Prefix number: 2400 Ranking: 6 2 4 8 5 Prefix: 0\n",
      "Prefix number: 2600 Ranking: 6 2 4 8 5 Prefix: 2 2 4\n",
      "Prefix number: 2800 Ranking: 6 2 4 8 5 Prefix: 22 8 3 0 5 9 6 6 2 4 9 9 2 9 4 8 2 4 4 5 0 4 9\n",
      "Prefix number: 3000 Ranking: 6 2 4 8 5 Prefix: 3 5 8 8\n",
      "Prefix number: 3200 Ranking: 6 2 4 8 5 Prefix: 3 8 2 3\n",
      "Prefix number: 3400 Ranking: 6 2 4 8 5 Prefix: 10 3 4 2 6 8 1 5 6 1 0\n",
      "Prefix number: 3600 Ranking: 6 2 4 8 5 Prefix: 7 5 4 7 8 4 6 7\n",
      "Prefix number: 3800 Ranking: 6 2 4 8 5 Prefix: 89 2 3 2 2 9 8 2 8 1 9 8 5 6 1 5 5 9 1 4 9 4 2 1 7 6 4 8 7 5 2 5 3 6 8 2 7 6 1 5 9 6 9 8 9 9 5 4 5 9 8 3 4 1 2 6 4 8 6 1 5 4 9 2 1 9 6 2 2 6 9 3 3 3 6 7 8 2 6 4 4 5 2 6 7 5 2 0 4 9\n",
      "Prefix number: 4000 Ranking: 6 2 4 8 5 Prefix: 5 5 6 6 9 7\n",
      "Prefix number: 4200 Ranking: 6 2 4 8 5 Prefix: 8 6 2 8 6 7 2 2 1\n",
      "Prefix number: 4400 Ranking: 6 2 4 8 5 Prefix: 36 2 6 7 9 2 4 8 4 8 2 2 3 1 5 4 8 4 4 8 3 3 4 9 3 2 6 7 2 4 6 4 8 2 4 1 9\n",
      "Prefix number: 4600 Ranking: 6 2 4 8 5 Prefix: 55 1 4 3 6 6 7 7 4 6 3 4 5 1 4 4 9 2 2 9 3 1 1 2 6 9 5 9 5 7 5 6 0 4 4 8 3 8 2 4 2 6 3 4 6 5 4 2 6 3 2 8 9 6 2 6\n",
      "Prefix number: 4800 Ranking: 6 2 4 8 5 Prefix: 13 6 1 7 9 4 3 9 7 5 2 6 9 4\n",
      "Prefix number: 5000 Ranking: 6 2 4 8 5 Prefix: 11 7 2 1 0 4 2 2 6 3 2 5\n",
      "[Success] Last prefix of the test set. The score of the submission named hmm_baseline_Ver1.2 on problem 3 is 0.71846893861294\n",
      "\n",
      "0.71846893861294\n"
     ]
    }
   ],
   "source": [
    "evaluateOnSpiceTrainDataSet(spiceContentOnPubFile,url_base)"
   ]
  },
  {
   "cell_type": "code",
   "execution_count": null,
   "metadata": {
    "collapsed": true
   },
   "outputs": [],
   "source": []
  },
  {
   "cell_type": "code",
   "execution_count": null,
   "metadata": {
    "collapsed": true
   },
   "outputs": [],
   "source": []
  },
  {
   "cell_type": "code",
   "execution_count": null,
   "metadata": {
    "collapsed": true
   },
   "outputs": [],
   "source": []
  },
  {
   "cell_type": "code",
   "execution_count": null,
   "metadata": {
    "collapsed": true
   },
   "outputs": [],
   "source": []
  }
 ],
 "metadata": {
  "kernelspec": {
   "display_name": "Python 3",
   "language": "python",
   "name": "python3"
  },
  "language_info": {
   "codemirror_mode": {
    "name": "ipython",
    "version": 3
   },
   "file_extension": ".py",
   "mimetype": "text/x-python",
   "name": "python",
   "nbconvert_exporter": "python",
   "pygments_lexer": "ipython3",
   "version": "3.5.1"
  }
 },
 "nbformat": 4,
 "nbformat_minor": 0
}
